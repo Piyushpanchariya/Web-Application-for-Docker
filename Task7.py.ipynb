{
 "cells": [
  {
   "cell_type": "code",
   "execution_count": null,
   "metadata": {},
   "outputs": [],
   "source": [
    "#!/usr/bin/python3\n",
    "\n",
    "print(\"content-type: text/html\")\n",
    "print()\n",
    "\n",
    "import cgi\n",
    "import subprocess as sp\n",
    "\n",
    "y=cgi.FieldStorage()\n",
    "cmd=y.getvalue('cmd')\n",
    "x=sp.getoutput(\"sudo\"+\" \"+cmd)\n",
    "print(x)\n"
   ]
  }
 ],
 "metadata": {
  "kernelspec": {
   "display_name": "Python 3",
   "language": "python",
   "name": "python3"
  },
  "language_info": {
   "codemirror_mode": {
    "name": "ipython",
    "version": 3
   },
   "file_extension": ".py",
   "mimetype": "text/x-python",
   "name": "python",
   "nbconvert_exporter": "python",
   "pygments_lexer": "ipython3",
   "version": "3.8.3"
  }
 },
 "nbformat": 4,
 "nbformat_minor": 4
}
